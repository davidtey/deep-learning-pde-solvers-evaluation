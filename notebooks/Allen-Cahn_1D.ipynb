{
 "cells": [
  {
   "cell_type": "code",
   "execution_count": 1,
   "id": "919d368a",
   "metadata": {
    "scrolled": true
   },
   "outputs": [],
   "source": [
    "import os\n",
    "import sys\n",
    "sys.path.append(\"../\")\n",
    "\n",
    "import math\n",
    "from scipy import special\n",
    "import numpy as np\n",
    "import torch\n",
    "import matplotlib.pyplot as plt\n",
    "import time\n",
    "import logging\n",
    "from pynverse import inversefunc\n",
    "from utilities.compare_performance import compare_performance\n",
    "\n",
    "device = torch.device(\"cuda\" if torch.cuda.is_available() else \"cpu\")"
   ]
  },
  {
   "cell_type": "code",
   "execution_count": 2,
   "id": "48f56306",
   "metadata": {},
   "outputs": [],
   "source": [
    "# function definition\n",
    "deriv_map = np.array([0]).reshape(-1, 1)\n",
    "def f_example(y, coordinate=0):\n",
    "    \"\"\"\n",
    "    idx 0 -> no deriv\n",
    "    \"\"\"\n",
    "    return y[0] - y[0] ** 3\n",
    "\n",
    "dgm_deriv_map = np.array([0, 2]).reshape(-1, 1)\n",
    "def dgm_f_example(y, coordinate=0):\n",
    "    \"\"\"\n",
    "    idx 0 -> no deriv\n",
    "    idx 1 -> second deriv\n",
    "    \"\"\"\n",
    "    return .5 * y[1] + y[0] - y[0] ** 3\n",
    "\n",
    "def phi_example(x, coordinate=0):\n",
    "    return -0.5 - 0.5 * torch.nn.Tanh()(-x[0] / 2)\n",
    "\n",
    "def exact_example(t, x, T):\n",
    "    return -0.5 - 0.5 * np.tanh(-x[0]/2 + 3*(T-t)/4)\n",
    "\n",
    "t_lo, x_lo, x_hi = 0., -8., 8.\n",
    "grid = np.linspace(x_lo, x_hi, 100)\n",
    "grid_d_dim = np.expand_dims(grid, axis=0)\n",
    "grid_d_dim_with_t = np.concatenate((t_lo * np.ones((1, 100)), grid_d_dim), axis=0)\n",
    "\n",
    "T = .5\n",
    "true = exact_example(t_lo, grid_d_dim, T)\n",
    "terminal = exact_example(T, grid_d_dim, T)"
   ]
  },
  {
   "cell_type": "code",
   "execution_count": null,
   "id": "4325cce4",
   "metadata": {},
   "outputs": [
    {
     "name": "stderr",
     "output_type": "stream",
     "text": [
      "Logs are saved in C:\\Users\\User\\OneDrive - Nanyang Technological University\\School\\Modules\\URECA\\deep-learning-pde-solvers-evaluation\\logs\\tmp\n"
     ]
    },
    {
     "name": "stdout",
     "output_type": "stream",
     "text": [
      "#### Starting deep branching method with seed 0 - 1 out of 10 times\n"
     ]
    }
   ],
   "source": [
    "# Performance comparison\n",
    "compare_performance(grid, grid_d_dim, grid_d_dim_with_t, t_lo, true, terminal=terminal, # seeds=[0],\n",
    "                    # disable_bsde=True, disable_galerkin=True, verbose=True, debug_mode=True,\n",
    "                    verbose=True,\n",
    "                    T=T, device=device, epochs=3000, fname=\"allen_cahn\",\n",
    "                    branch_nb_states=1000, branch_nb_path_per_state=100000,\n",
    "                    branch_patches=1, branch_exponential_lambda=-math.log(.95)/T,\n",
    "                    branch_nb_states_per_batch=200,\n",
    "                    bsde_nb_states=1000, bsde_nb_time_intervals=4,\n",
    "                    dgm_nb_states=10000, f_fun=f_example, dgm_f_fun=dgm_f_example,\n",
    "                    deriv_map=deriv_map, dgm_deriv_map=dgm_deriv_map, phi_fun=phi_example,\n",
    "                    lr_gamma=0.1, branch_lr=1e-2, branch_activation=\"tanh\", neurons=20, layers=5,\n",
    "                    save_for_best_model=False, save_as_tmp=True)"
   ]
  },
  {
   "cell_type": "code",
   "execution_count": null,
   "id": "cdd0575a",
   "metadata": {},
   "outputs": [],
   "source": []
  },
  {
   "cell_type": "code",
   "execution_count": null,
   "id": "58f0c9af",
   "metadata": {},
   "outputs": [],
   "source": []
  },
  {
   "cell_type": "code",
   "execution_count": null,
   "id": "d140bbda",
   "metadata": {},
   "outputs": [],
   "source": []
  },
  {
   "cell_type": "code",
   "execution_count": null,
   "id": "ba2d340a",
   "metadata": {},
   "outputs": [],
   "source": []
  },
  {
   "cell_type": "code",
   "execution_count": null,
   "id": "209396a0",
   "metadata": {},
   "outputs": [],
   "source": []
  },
  {
   "cell_type": "code",
   "execution_count": null,
   "id": "1832d740",
   "metadata": {},
   "outputs": [],
   "source": []
  },
  {
   "cell_type": "code",
   "execution_count": null,
   "id": "ca1d2f46",
   "metadata": {},
   "outputs": [],
   "source": []
  },
  {
   "cell_type": "code",
   "execution_count": null,
   "id": "db0045a9",
   "metadata": {},
   "outputs": [],
   "source": []
  },
  {
   "cell_type": "code",
   "execution_count": null,
   "id": "f04ec14c",
   "metadata": {},
   "outputs": [],
   "source": []
  },
  {
   "cell_type": "code",
   "execution_count": null,
   "id": "0034175d",
   "metadata": {},
   "outputs": [],
   "source": []
  },
  {
   "cell_type": "code",
   "execution_count": null,
   "id": "d5b68184",
   "metadata": {},
   "outputs": [],
   "source": []
  },
  {
   "cell_type": "code",
   "execution_count": null,
   "id": "95fb8175",
   "metadata": {},
   "outputs": [],
   "source": []
  },
  {
   "cell_type": "code",
   "execution_count": null,
   "id": "5aa7ec7c",
   "metadata": {},
   "outputs": [],
   "source": []
  },
  {
   "cell_type": "code",
   "execution_count": null,
   "id": "ad920bbc",
   "metadata": {},
   "outputs": [],
   "source": []
  },
  {
   "cell_type": "code",
   "execution_count": null,
   "id": "6400af8a",
   "metadata": {},
   "outputs": [],
   "source": []
  },
  {
   "cell_type": "code",
   "execution_count": null,
   "id": "8bec4ba7",
   "metadata": {},
   "outputs": [],
   "source": []
  },
  {
   "cell_type": "code",
   "execution_count": null,
   "id": "16285800",
   "metadata": {},
   "outputs": [],
   "source": []
  },
  {
   "cell_type": "code",
   "execution_count": null,
   "id": "4167a80e",
   "metadata": {},
   "outputs": [],
   "source": []
  },
  {
   "cell_type": "code",
   "execution_count": null,
   "id": "a54c2524",
   "metadata": {},
   "outputs": [],
   "source": []
  },
  {
   "cell_type": "code",
   "execution_count": null,
   "id": "1f6f0d8c",
   "metadata": {},
   "outputs": [],
   "source": []
  },
  {
   "cell_type": "code",
   "execution_count": null,
   "id": "ca93aeee",
   "metadata": {},
   "outputs": [],
   "source": []
  },
  {
   "cell_type": "code",
   "execution_count": null,
   "id": "7ae1b8f2",
   "metadata": {},
   "outputs": [],
   "source": []
  }
 ],
 "metadata": {
  "kernelspec": {
   "display_name": "Python 3 (ipykernel)",
   "language": "python",
   "name": "python3"
  },
  "language_info": {
   "codemirror_mode": {
    "name": "ipython",
    "version": 3
   },
   "file_extension": ".py",
   "mimetype": "text/x-python",
   "name": "python",
   "nbconvert_exporter": "python",
   "pygments_lexer": "ipython3",
   "version": "3.11.5"
  }
 },
 "nbformat": 4,
 "nbformat_minor": 5
}
