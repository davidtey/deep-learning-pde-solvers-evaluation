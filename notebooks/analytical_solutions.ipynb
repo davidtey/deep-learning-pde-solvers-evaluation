{
 "cells": [
  {
   "cell_type": "code",
   "execution_count": 1,
   "metadata": {},
   "outputs": [],
   "source": [
    "import numpy as np\n",
    "from sympy import *\n",
    "import sympy as sp\n",
    "#import scipy.integrate as integrate\n",
    "import scipy.special as special\n",
    "from scipy.integrate import quad"
   ]
  },
  {
   "cell_type": "markdown",
   "metadata": {},
   "source": [
    "## Test Case 1"
   ]
  },
  {
   "cell_type": "code",
   "execution_count": 2,
   "metadata": {},
   "outputs": [],
   "source": [
    "mu = 0.05\n",
    "dim = 1 \n",
    "\n",
    "def u0(x):\n",
    "    return sin(np.pi*x)\n",
    "\n",
    "def v0(x):\n",
    "    z = sp.Symbol(\"z\")\n",
    "    return integrate(u0(z), (z, 0, x))\n",
    "\n",
    "def w(x,mu):\n",
    "    return exp(-v0(x)/2/mu)\n",
    "\n",
    "c=[quad(w,0,1,args=(mu))[0]]\n",
    "\n",
    "def w0(x,k,mu):\n",
    "    return exp(-v0(x)/2/mu)*cos(k*np.pi*x)\n",
    "\n",
    "nb_sums=14;    \n",
    "\n",
    "for k in range(1,nb_sums):\n",
    "    c.append(2*quad(w0,0,1,args=(k,mu))[0])\n",
    "    \n",
    "def exact_example(t, x, T):\n",
    "    xi = (1+sum(x))/2\n",
    "    if t==T: \n",
    "        return np.sin(np.pi*xi)\n",
    "    else:\n",
    "        sum1 = 0  \n",
    "        for n in range(1,nb_sums):\n",
    "            sum1 += c[n]*n*np.exp(-n**2*np.pi**2*mu*dim*(T-t))*np.sin(n*np.pi*xi)\n",
    "        sum2 = 0\n",
    "        for n in range(1,nb_sums):\n",
    "            sum2 += c[n]*np.exp(-n**2*np.pi**2*mu*dim*(T-t))*np.cos(n*np.pi*xi)\n",
    "        return 2*np.pi*mu*sum1/(c[0]+sum2)"
   ]
  },
  {
   "cell_type": "markdown",
   "metadata": {},
   "source": [
    "## Test Case 2"
   ]
  },
  {
   "cell_type": "code",
   "execution_count": 3,
   "metadata": {},
   "outputs": [],
   "source": [
    "mu = 0.05\n",
    "dim = 1 \n",
    "\n",
    "def v0(x):\n",
    "    return 6*x-6*x**2\n",
    "\n",
    "def vv0(x):\n",
    "    z = sp.Symbol(\"z\")\n",
    "    return integrate(u0(z), (z, 0, x))\n",
    "\n",
    "def w(x,mu):\n",
    "    return exp(-v0(x)/3/mu)\n",
    "\n",
    "c=[quad(w,0,1,args=(mu))[0]]\n",
    "\n",
    "def w0(x,k,mu):\n",
    "    return exp(-v0(x)/3/mu)*cos(k*np.pi*x)\n",
    "\n",
    "nb_sums=14;    \n",
    "\n",
    "for k in range(1,nb_sums):\n",
    "    c.append(2*quad(w0,0,1,args=(k,mu))[0])\n",
    "    \n",
    "def exact_example(t, x, T):\n",
    "    xi = (1+sum(x))/2\n",
    "    if t==T: \n",
    "        return 4*xi*(1-xi)\n",
    "    else:\n",
    "        sum1 = 0  \n",
    "        for n in range(1,nb_sums):\n",
    "            sum1 += c[n]*n*np.exp(-n**2*np.pi**2*mu*dim*(T-t))*np.sin(n*np.pi*xi)\n",
    "        sum2 = 0\n",
    "        for n in range(1,nb_sums):\n",
    "            sum2 += c[n]*np.exp(-n**2*np.pi**2*mu*dim*(T-t))*np.cos(n*np.pi*xi)\n",
    "        return 2*np.pi*mu*sum1/(c[0]+sum2)"
   ]
  },
  {
   "cell_type": "markdown",
   "metadata": {},
   "source": [
    "## Test Case 3"
   ]
  },
  {
   "cell_type": "code",
   "execution_count": 4,
   "metadata": {},
   "outputs": [],
   "source": [
    "mu = 0.05\n",
    "dim = 1 \n",
    "m=2\n",
    "    \n",
    "def exact_example(t, x, T):\n",
    "    xi = (1+sum(x))/2\n",
    "    return 2*np.pi*mu*np.exp(-np.pi**2*mu*dim*(T-t))*np.sin(np.pi*xi)/(m+np.exp(-np.pi**2*mu*dim*(T-t))*np.cos(np.pi*xi))"
   ]
  }
 ],
 "metadata": {
  "kernelspec": {
   "display_name": "pdenn",
   "language": "python",
   "name": "python3"
  },
  "language_info": {
   "codemirror_mode": {
    "name": "ipython",
    "version": 3
   },
   "file_extension": ".py",
   "mimetype": "text/x-python",
   "name": "python",
   "nbconvert_exporter": "python",
   "pygments_lexer": "ipython3",
   "version": "3.11.7"
  }
 },
 "nbformat": 4,
 "nbformat_minor": 2
}
